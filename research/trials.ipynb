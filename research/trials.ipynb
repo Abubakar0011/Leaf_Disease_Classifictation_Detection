{
 "cells": [
  {
   "cell_type": "code",
   "execution_count": 1,
   "metadata": {},
   "outputs": [],
   "source": [
    "url = \"https://drive.google.com/file/d/1IXsidq3r-xRH0133fc7BQUzyrLW95LRH/view?usp=sharing\""
   ]
  },
  {
   "cell_type": "code",
   "execution_count": 2,
   "metadata": {},
   "outputs": [
    {
     "data": {
      "text/plain": [
       "'1IXsidq3r-xRH0133fc7BQUzyrLW95LRH'"
      ]
     },
     "execution_count": 2,
     "metadata": {},
     "output_type": "execute_result"
    }
   ],
   "source": [
    "file_id = url.split(\"/\")[-2]\n",
    "file_id"
   ]
  },
  {
   "cell_type": "code",
   "execution_count": 5,
   "metadata": {},
   "outputs": [],
   "source": [
    "prefix = 'https://drive.google.com/uc?/export=download&id='\n"
   ]
  },
  {
   "cell_type": "code",
   "execution_count": 6,
   "metadata": {},
   "outputs": [
    {
     "name": "stderr",
     "output_type": "stream",
     "text": [
      "  4%|▍         | 57.7M/1.49G [00:50<12:51, 1.85MB/s]Downloading...\n",
      "From (original): https://drive.google.com/uc?/export=download&id=1IXsidq3r-xRH0133fc7BQUzyrLW95LRH\n",
      "From (redirected): https://drive.google.com/uc?%2Fexport=download&id=1IXsidq3r-xRH0133fc7BQUzyrLW95LRH&confirm=t&uuid=2b732322-5ded-41ba-a0ae-916424f5d7c4\n",
      "To: /Users/abubakarsaddiq/Desktop/Deep Learning/Leaf_Disease_Detection/research/plant-disease-detection.zip\n",
      "100%|██████████| 1.49G/1.49G [14:46<00:00, 1.68MB/s]\n"
     ]
    },
    {
     "data": {
      "text/plain": [
       "'plant-disease-detection.zip'"
      ]
     },
     "execution_count": 6,
     "metadata": {},
     "output_type": "execute_result"
    }
   ],
   "source": [
    "import gdown\n",
    "gdown.download(prefix+file_id, \"plant-disease-detection.zip\")\n"
   ]
  },
  {
   "cell_type": "code",
   "execution_count": null,
   "metadata": {},
   "outputs": [],
   "source": []
  }
 ],
 "metadata": {
  "kernelspec": {
   "display_name": "Python 3",
   "language": "python",
   "name": "python3"
  },
  "language_info": {
   "codemirror_mode": {
    "name": "ipython",
    "version": 3
   },
   "file_extension": ".py",
   "mimetype": "text/x-python",
   "name": "python",
   "nbconvert_exporter": "python",
   "pygments_lexer": "ipython3",
   "version": "3.10.0"
  }
 },
 "nbformat": 4,
 "nbformat_minor": 2
}
