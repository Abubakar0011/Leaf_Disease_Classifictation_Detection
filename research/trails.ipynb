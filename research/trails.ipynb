{
 "cells": [
  {
   "cell_type": "code",
   "execution_count": null,
   "metadata": {},
   "outputs": [],
   "source": [
    "# import tensorflow as tf\n",
    "# from pathlib import Path\n",
    "# from cnnclassifier.entity.config_entity import TrainingConfig\n",
    "\n",
    "\n",
    "# class Training:\n",
    "#     def __init__(self, config: TrainingConfig):\n",
    "#         self.config = config\n",
    "\n",
    "#     def get_base_model(self):\n",
    "#         self.model = tf.keras.models.load_model(\n",
    "#             self.config.updated_base_model_path\n",
    "#         )\n",
    "\n",
    "#     def train_valid_generator(self):\n",
    "#         datagenerator_kwargs = dict(\n",
    "#             rescale=1. / 255,\n",
    "#             validation_split=0.20\n",
    "#         )\n",
    "\n",
    "#         dataflow_kwargs = dict(\n",
    "#             target_size=self.config.params_image_size[:-1],\n",
    "#             batch_size=self.config.params_batch_size,\n",
    "#             interpolation=\"bilinear\"\n",
    "#         )\n",
    "\n",
    "#         valid_datagenerator = tf.keras.preprocessing.image.ImageDataGenerator(\n",
    "#             **datagenerator_kwargs\n",
    "#         )\n",
    "\n",
    "#         self.valid_generator = valid_datagenerator.flow_from_directory(\n",
    "#             directory=self.config.training_data,\n",
    "#             subset=\"validation\",\n",
    "#             shuffle=False,\n",
    "#             **dataflow_kwargs\n",
    "#         )\n",
    "\n",
    "#         if self.config.params_is_augmentation:\n",
    "#             train_datagenerator = (\n",
    "#                 tf.keras.preprocessing.image.ImageDataGenerator(\n",
    "#                     rotation_range=40,\n",
    "#                     horizontal_flip=True,\n",
    "#                     width_shift_range=0.2,\n",
    "#                     height_shift_range=0.2,\n",
    "#                     shear_range=0.2,\n",
    "#                     zoom_range=0.2,\n",
    "#                     **datagenerator_kwargs\n",
    "#                 )\n",
    "#             )\n",
    "#         else:\n",
    "#             train_datagenerator = valid_datagenerator\n",
    "\n",
    "#         self.train_generator = train_datagenerator.flow_from_directory(\n",
    "#             directory=self.config.training_data,\n",
    "#             subset=\"training\",\n",
    "#             shuffle=True,\n",
    "#             **dataflow_kwargs\n",
    "#         )\n",
    "\n",
    "#     @staticmethod\n",
    "#     def save_model(path: Path, model: tf.keras.Model):\n",
    "#         path = path.with_suffix(\".keras\")\n",
    "#         model.save(str(path))\n",
    "\n",
    "#     def train(self):\n",
    "#         self.steps_per_epoch = (\n",
    "#             self.train_generator.samples // self.train_generator.batch_size\n",
    "#         )\n",
    "#         self.validation_steps = (\n",
    "#             self.valid_generator.samples // self.valid_generator.batch_size\n",
    "#         )\n",
    "\n",
    "#         # Ensure model has the correct number of classes in the output layer\n",
    "#         self.model = self._update_model_for_classes(\n",
    "#             self.model, self.config.params_classes\n",
    "#         )\n",
    "\n",
    "#         self.model.fit(\n",
    "#             self.train_generator,\n",
    "#             epochs=self.config.params_epochs,\n",
    "#             steps_per_epoch=self.steps_per_epoch,\n",
    "#             validation_steps=self.validation_steps,\n",
    "#             validation_data=self.valid_generator\n",
    "#         )\n",
    "\n",
    "#         self.save_model(\n",
    "#             path=self.config.trained_model_path,\n",
    "#             model=self.model\n",
    "#         )\n",
    "\n",
    "#     def _update_model_for_classes(self, model, num_classes):\n",
    "#         # Modify the output layer to match the number of classes\n",
    "#         flatten_in = tf.keras.layers.Flatten()(model.output)\n",
    "#         predictions = tf.keras.layers.Dense(\n",
    "#             units=num_classes, activation='softmax'\n",
    "#         )(flatten_in)\n",
    "\n",
    "#         full_model = tf.keras.models.Model(\n",
    "#             inputs=model.input, outputs=predictions\n",
    "#         )\n",
    "#         full_model.compile(\n",
    "#             optimizer=tf.keras.optimizers.SGD(\n",
    "#                 learning_rate=self.config.params_learning_rate\n",
    "#             ),\n",
    "#             loss='categorical_crossentropy',\n",
    "#             metrics=['accuracy']\n",
    "#         )\n",
    "#         return full_model\n"
   ]
  },
  {
   "cell_type": "code",
   "execution_count": 1,
   "metadata": {},
   "outputs": [
    {
     "data": {
      "text/plain": [
       "'1K64ZO8oST3VB-1IGU7X4vo14TxGi_3aP'"
      ]
     },
     "execution_count": 1,
     "metadata": {},
     "output_type": "execute_result"
    }
   ],
   "source": [
    "# import gdown\n",
    "# url = \"https://drive.google.com/file/d/1AS6gYUFridp2FJTVfp-gmo47vBbb-cEa/view?usp=sharing\"\n",
    "# file_id = url.split(\"/\")[-2]\n",
    "# file_id\n"
   ]
  },
  {
   "cell_type": "code",
   "execution_count": 2,
   "metadata": {},
   "outputs": [
    {
     "name": "stderr",
     "output_type": "stream",
     "text": [
      "Downloading...\n",
      "From (original): https://drive.google.com/uc?/export=download&id=1K64ZO8oST3VB-1IGU7X4vo14TxGi_3aP\n",
      "From (redirected): https://drive.google.com/uc?%2Fexport=download&id=1K64ZO8oST3VB-1IGU7X4vo14TxGi_3aP&confirm=t&uuid=34f96134-4715-4016-9408-3bf6cf40801e\n",
      "To: /Users/abubakarsaddiq/Desktop/Deep Learning/Leaf_Disease_Detection/research/plant_disease_data.zip\n",
      "100%|██████████| 1.48G/1.48G [13:22<00:00, 1.84MB/s]\n"
     ]
    },
    {
     "data": {
      "text/plain": [
       "'plant_disease_data.zip'"
      ]
     },
     "execution_count": 2,
     "metadata": {},
     "output_type": "execute_result"
    }
   ],
   "source": [
    "# prefix = 'https://drive.google.com/uc?/export=download&id='\n",
    "# gdown.download(prefix+file_id, \"plant_disease_data.zip\")"
   ]
  },
  {
   "cell_type": "code",
   "execution_count": null,
   "metadata": {},
   "outputs": [],
   "source": [
    "# import dagshub\n",
    "# dagshub.init(repo_owner='Abubakar0011', repo_name='Leaf_Disease_Classifictation_Detection', mlflow=True)\n",
    "\n",
    "# import mlflow\n",
    "# with mlflow.start_run():\n",
    "#   mlflow.log_param('parameter name', 'value')\n",
    "#   mlflow.log_metric('metric name', 1)"
   ]
  },
  {
   "cell_type": "code",
   "execution_count": null,
   "metadata": {},
   "outputs": [],
   "source": [
    "# https://dagshub.com/Abubakar0011/Leaf_Disease_Classifictation_Detection.mlflow"
   ]
  },
  {
   "cell_type": "code",
   "execution_count": null,
   "metadata": {},
   "outputs": [],
   "source": [
    "# e27d182db0e50ba665ab94c3414ce8c85b0aaaa7"
   ]
  }
 ],
 "metadata": {
  "kernelspec": {
   "display_name": "Python 3",
   "language": "python",
   "name": "python3"
  },
  "language_info": {
   "codemirror_mode": {
    "name": "ipython",
    "version": 3
   },
   "file_extension": ".py",
   "mimetype": "text/x-python",
   "name": "python",
   "nbconvert_exporter": "python",
   "pygments_lexer": "ipython3",
   "version": "3.10.0"
  }
 },
 "nbformat": 4,
 "nbformat_minor": 2
}
